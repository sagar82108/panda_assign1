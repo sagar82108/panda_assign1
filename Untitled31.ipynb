{
 "cells": [
  {
   "cell_type": "code",
   "execution_count": null,
   "id": "47bf47ae-c1f3-463e-8e0a-bbcdd85016ab",
   "metadata": {},
   "outputs": [],
   "source": [
    "import pandas as pd\n",
    "\n",
    "course_name = ['Data Science', 'Machine Learning', 'Big Data', 'Data Engineer']\n",
    "duration = [2, 3, 6, 4]\n",
    "df = pd.DataFrame(data={'course_name': course_name, 'duration': duration})\n",
    "\n",
    "# Printing the data present in the second row of the DataFrame\n",
    "print(df.iloc[1])\n"
   ]
  },
  {
   "cell_type": "code",
   "execution_count": null,
   "id": "e7eb023e-f0d4-4253-9e29-4f1d73a5bd30",
   "metadata": {},
   "outputs": [],
   "source": [
    "loc is primarily label-based indexing. It is used to access rows and columns in a DataFrame by their labels (index and column names).\n",
    "iloc:\n",
    "\n",
    "iloc is integer-location based indexing. It is used to access rows and columns in a DataFrame by their numerical positions (integer indices)."
   ]
  },
  {
   "cell_type": "code",
   "execution_count": null,
   "id": "face043c-9720-4284-902b-a1fc4d7d669f",
   "metadata": {},
   "outputs": [],
   "source": [
    "import pandas as pd\n",
    "\n",
    "course_name = ['Data Science', 'Machine Learning', 'Big Data', 'Data Engineer']\n",
    "duration = [2, 3, 6, 4]\n",
    "df = pd.DataFrame(data={'course_name': course_name, 'duration': duration})\n",
    "\n",
    "# Define the reindex order\n",
    "reindex = [3, 0, 1, 2]\n",
    "\n",
    "# Reindex the DataFrame using the specified order\n",
    "new_df = df.reindex(reindex)\n",
    "\n",
    "# Output for new_df.loc[2]\n",
    "print(new_df.loc[2])\n",
    "# Output for new_df.iloc[2]\n",
    "print(new_df.iloc[2])\n",
    "\n",
    "new_df.loc[2] returns the data for the row with label/index 2 in the new_df. After reindexing, the row originally at index 1 in df (which is 'Big Data') gets placed at index 2 in new_df. So, new_df.loc[2] returns the data for the row labeled/indexed as 2, which is 'Big Data' with duration 6.\n",
    "\n",
    "new_df.iloc[2] returns the data for the row at numerical position 2 in the new_df. After reindexing, the row originally at index 0 in df (which is 'Machine Learning') gets placed at index 2 in new_df. So, new_df.iloc[2] returns the data for the row at numerical position 2, which is 'Machine Learning' with duration 3."
   ]
  },
  {
   "cell_type": "code",
   "execution_count": null,
   "id": "da2b1485-3b93-4a56-a41a-30cb4b060f47",
   "metadata": {},
   "outputs": [],
   "source": [
    "import pandas as pd\n",
    "import numpy as np\n",
    "\n",
    "columns = ['column_1','column_2','column_3','column_4','column_5','column_6']\n",
    "indices = [1,2,3,4,5,6]\n",
    "df1 = pd.DataFrame(np.random.rand(6,6),columns=columns,index=indices)\n",
    "column_means = df1.mean()\n",
    "print(column_means)\n",
    "\n",
    "\n",
    "column_2std= df1['column_2'].std()\n",
    "print(column_2std)"
   ]
  },
  {
   "cell_type": "code",
   "execution_count": null,
   "id": "c16a1bf1-b4e9-4742-8399-4d8c192cf768",
   "metadata": {},
   "outputs": [],
   "source": [
    "import pandas as pd\n",
    "import numpy as np\n",
    "\n",
    "columns = ['column_1','column_2','column_3','column_4','column_5','column_6']\n",
    "indices = [1,2,3,4,5,6]\n",
    "df1 = pd.DataFrame(np.random.rand(6,6),columns=columns,index=indices)\n",
    "df1.loc[2,'column_2']='sagar'\n",
    "column_means = df1.mean()\n",
    "\"the error msg is due the fact that we can't perform calculatio on string\""
   ]
  },
  {
   "cell_type": "code",
   "execution_count": null,
   "id": "86125100-cd44-4cc8-a073-e80f237de526",
   "metadata": {},
   "outputs": [],
   "source": [
    "rolling(): This creates a rolling view over the data, and you can apply various window functions like sum(), mean(), std(), etc., on the rolling view.\n",
    "\n",
    "expanding(): This creates an expanding view over the data, where the window size increases with each data point. You can apply functions like sum(), mean(), etc., to calculate cumulative statistics.\n",
    "\n",
    "ewm(): Exponentially Weighted Moving Average. This function calculates exponentially weighted statistics over the data, giving more weight to recent data points."
   ]
  },
  {
   "cell_type": "code",
   "execution_count": null,
   "id": "3e6186c9-a7ab-456e-b090-4ec78a666ab7",
   "metadata": {},
   "outputs": [],
   "source": [
    "from datetime import datetime\n",
    "\n",
    "# Get the current date and time\n",
    "current_date_time = datetime.now()\n",
    "\n",
    "# Extract the month and year from the current date\n",
    "current_month = current_date_time.month\n",
    "current_year = current_date_time.year\n",
    "\n",
    "# Print the current month and year\n",
    "print(f\"Current Month: {current_month}\")\n",
    "print(f\"Current Year: {current_year}\")\n"
   ]
  },
  {
   "cell_type": "code",
   "execution_count": null,
   "id": "0d23fe5b-842d-42b4-a140-8739b16f2ae3",
   "metadata": {},
   "outputs": [],
   "source": [
    "import pandas as pd\n",
    "\n",
    "def get_date_input():\n",
    "    while True:\n",
    "        try:\n",
    "            date_input = input(\"Enter a date (YYYY-MM-DD): \")\n",
    "            year, month, day = map(int, date_input.split('-'))\n",
    "            return pd.Timestamp(year=year, month=month, day=day)\n",
    "        except ValueError:\n",
    "            print(\"Invalid date format. Please enter in the format YYYY-MM-DD.\")\n",
    "            continue\n",
    "\n",
    "def main():\n",
    "    print(\"Enter the first date:\")\n",
    "    date1 = get_date_input()\n",
    "\n",
    "    print(\"\\nEnter the second date:\")\n",
    "    date2 = get_date_input()\n",
    "\n",
    "    time_difference = date2 - date1\n",
    "\n",
    "    days_difference = time_difference.days\n",
    "    hours_difference = time_difference.seconds // 3600\n",
    "    minutes_difference = (time_difference.seconds // 60) % 60\n",
    "\n",
    "    print(\"\\nDifference between the two dates:\")\n",
    "    print(f\"Days: {days_difference} days\")\n",
    "    print(f\"Hours: {hours_difference} hours\")\n",
    "    print(f\"Minutes: {minutes_difference} minutes\")\n",
    "\n",
    "if __name__ == \"__main__\":\n",
    "    main()\n"
   ]
  },
  {
   "cell_type": "code",
   "execution_count": null,
   "id": "20883e17-41b2-4de4-b1af-b3726efdafcc",
   "metadata": {},
   "outputs": [],
   "source": [
    "import pandas as pd\n",
    "\n",
    "def main():\n",
    "    file_path = input(\"Enter the file path: \")\n",
    "    column_name = input(\"Enter the column name to convert to categorical data type: \")\n",
    "    category_order = input(\"Enter the category order (comma-separated): \").split(',')\n",
    "\n",
    "    try:\n",
    "        df = pd.read_csv(file_path)\n",
    "        df[column_name] = pd.Categorical(df[column_name], categories=category_order, ordered=True)\n",
    "        sorted_df = df.sort_values(by=column_name)\n",
    "\n",
    "        print(\"\\nSorted Data:\")\n",
    "        print(sorted_df)\n",
    "\n",
    "    except FileNotFoundError:\n",
    "        print(\"Error: File not found.\")\n",
    "    except KeyError:\n",
    "        print(\"Error: Column name not found in the file.\")\n",
    "    except Exception as e:\n",
    "        print(f\"An error occurred: {e}\")\n",
    "\n",
    "if __name__ == \"__main__\":\n",
    "    main()\n"
   ]
  },
  {
   "cell_type": "code",
   "execution_count": null,
   "id": "dbbb2f90-c674-4f64-b16f-c5e651df13f4",
   "metadata": {},
   "outputs": [],
   "source": [
    "import pandas as pd\n",
    "\n",
    "def main():\n",
    "    # Prompt the user to enter the file path of the CSV file containing the student data\n",
    "    file_path = input(\"Enter the file path of the CSV file containing the student data: \")\n",
    "\n",
    "    # Read the CSV file into a Pandas DataFrame\n",
    "    df = pd.read_csv(file_path)\n",
    "\n",
    "    # Calculate the mean, median, and mode of the test scores\n",
    "    mean = df[\"Test Score\"].mean()\n",
    "    median = df[\"Test Score\"].median()\n",
    "    mode = df[\"Test Score\"].mode()\n",
    "\n",
    "    # Create a table to display the results\n",
    "    table = pd.DataFrame({\n",
    "        \"Statistic\": [\"Mean\", \"Median\", \"Mode\"],\n",
    "        \"Value\": [mean, median, mode]\n",
    "    })\n",
    "\n",
    "    # Display the table\n",
    "    print(table)\n",
    "\n",
    "if __name__ == \"__main__\":\n",
    "    main()\n"
   ]
  },
  {
   "cell_type": "code",
   "execution_count": null,
   "id": "3db06fb4-4eed-49da-9477-1fb68bc34348",
   "metadata": {},
   "outputs": [],
   "source": []
  }
 ],
 "metadata": {
  "kernelspec": {
   "display_name": "Python 3 (ipykernel)",
   "language": "python",
   "name": "python3"
  },
  "language_info": {
   "codemirror_mode": {
    "name": "ipython",
    "version": 3
   },
   "file_extension": ".py",
   "mimetype": "text/x-python",
   "name": "python",
   "nbconvert_exporter": "python",
   "pygments_lexer": "ipython3",
   "version": "3.10.8"
  }
 },
 "nbformat": 4,
 "nbformat_minor": 5
}
